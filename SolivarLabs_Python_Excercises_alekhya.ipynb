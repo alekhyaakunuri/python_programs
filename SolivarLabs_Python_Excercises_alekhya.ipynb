{
 "cells": [
  {
   "cell_type": "markdown",
   "metadata": {},
   "source": [
    "### Try it #01\n",
    "Now write a program which prints Hello to the world !!!<br>\n",
    "(after typing the code , press Shift+Enter to run it)"
   ]
  },
  {
   "cell_type": "code",
   "execution_count": 1,
   "metadata": {},
   "outputs": [
    {
     "name": "stdout",
     "output_type": "stream",
     "text": [
      "Hello to world\n"
     ]
    }
   ],
   "source": [
    "print(\"Hello to world\")\n"
   ]
  },
  {
   "cell_type": "markdown",
   "metadata": {},
   "source": [
    "### Try it #02\n",
    "Assign value 100 to a <br> \n",
    "Check the type of a <br>\n",
    "Assign value a*2.3 to a <br>\n",
    "Check the type of a <br>\n",
    "Assign value \"checkType\" to a <br>\n",
    "check the type of a <br>\n",
    "try changing the value of a from int, float, string, boolean and verify types. "
   ]
  },
  {
   "cell_type": "code",
   "execution_count": 1,
   "metadata": {},
   "outputs": [
    {
     "name": "stdout",
     "output_type": "stream",
     "text": [
      "type of a <class 'int'>\n",
      "type of a*2.3 <class 'float'>\n",
      "type of a <class 'str'>\n",
      "type of a <class 'bool'>\n"
     ]
    }
   ],
   "source": [
    "a=100\n",
    "print(\"type of a\",type(a))\n",
    "a=a*2.3\n",
    "print(\"type of a*2.3\",type(a))\n",
    "a=\"alli\"\n",
    "print(\"type of a\",type(a))\n",
    "a=False\n",
    "print(\"type of a\",type(a))\n",
    "\n"
   ]
  },
  {
   "cell_type": "markdown",
   "metadata": {},
   "source": [
    "### Try it #03\n",
    "\n",
    "Apply all arthimetic Operators on 23 and 4"
   ]
  },
  {
   "cell_type": "code",
   "execution_count": 2,
   "metadata": {},
   "outputs": [
    {
     "name": "stdout",
     "output_type": "stream",
     "text": [
      "sum= 27\n",
      "difference= 19\n",
      "poduct= 92\n",
      "division= 5.75\n",
      "remainder= 3\n",
      "exponent= 279841\n",
      "floor= 5\n"
     ]
    }
   ],
   "source": [
    "g=23\n",
    "h=4\n",
    "print(\"sum=\",g+h)\n",
    "print(\"difference=\",g-h)\n",
    "print(\"poduct=\",g*h)\n",
    "print(\"division=\",g/h)\n",
    "print(\"remainder=\",g%h)\n",
    "print(\"exponent=\",g**h)\n",
    "print(\"floor=\",g//h)\n",
    "\n",
    "\n"
   ]
  },
  {
   "cell_type": "markdown",
   "metadata": {},
   "source": [
    "### Try it #04\n",
    "\n",
    "Apply all comparission operators on 1 and -1"
   ]
  },
  {
   "cell_type": "code",
   "execution_count": 3,
   "metadata": {},
   "outputs": [
    {
     "name": "stdout",
     "output_type": "stream",
     "text": [
      "g<y False\n",
      "g>y True\n",
      "g==h False\n",
      "g!=h True\n",
      "g>=h True\n",
      "g<=h False\n"
     ]
    }
   ],
   "source": [
    "g=1\n",
    "h=-1\n",
    "print(\"g<y\",g<h)\n",
    "print(\"g>y\",g>h)\n",
    "print(\"g==h\",g==h)\n",
    "print(\"g!=h\",g!=h)\n",
    "print(\"g>=h\",g>=h)\n",
    "print(\"g<=h\",g<=h)\n"
   ]
  },
  {
   "cell_type": "markdown",
   "metadata": {},
   "source": [
    "### Try it #05\n",
    "\n",
    "Apply Logical Operators between a and b given a = True and b = False"
   ]
  },
  {
   "cell_type": "code",
   "execution_count": 6,
   "metadata": {},
   "outputs": [
    {
     "name": "stdout",
     "output_type": "stream",
     "text": [
      "a and b False\n",
      "a or b True\n",
      "a not False\n",
      "b not True\n",
      "\n",
      "\n"
     ]
    }
   ],
   "source": [
    "a=True\n",
    "b=False\n",
    "print(\"a and b\",a and b)\n",
    "print(\"a or b\",a or b)\n",
    "print(\"a not\",not a)\n",
    "print(\"b not\",not b)\n",
    "print(\"\\n\")\n",
    "\n",
    "\n"
   ]
  },
  {
   "cell_type": "markdown",
   "metadata": {},
   "source": [
    "### Try it #06\n",
    "\n",
    "Create a table like output with rows 0 0, 0 1, 1 0, 1 1, 1, 0 and columns as &, |, ^, ~, >>, <<\n",
    "Fill the table with results of applying operators in columns to the values in rows. \n"
   ]
  },
  {
   "cell_type": "code",
   "execution_count": 12,
   "metadata": {},
   "outputs": [
    {
     "name": "stdout",
     "output_type": "stream",
     "text": [
      "a b & | ^\n",
      "0 0 0 0 0\n",
      "0 1 0 1 1\n",
      "1 0 0 1 1\n",
      "1 1 1 1 0\n"
     ]
    }
   ],
   "source": [
    "a=0\n",
    "b=1\n",
    "print(\"a b & | ^\")\n",
    "print(\"0 0\",a&a,a|a,a^a)\n",
    "print(\"0 1\",a&b,a|b,a^b)\n",
    "print(\"1 0\",b&a,b|a,b^a)\n",
    "print(\"1 1\",b&b,b|b,b^b)\n",
    "\n",
    "\n",
    "\n",
    "\n",
    "\n",
    "\n",
    "\n",
    "\n",
    "\n"
   ]
  },
  {
   "cell_type": "markdown",
   "metadata": {
    "collapsed": true
   },
   "source": [
    "### Try it #07\n",
    "\n",
    "Somu came to a store and bought 2 products A and B.<br> \n",
    "Product A cost 10 and Product B cost 20. <br>\n",
    "Take input from Somu needs how many product A ? <br>\n",
    "and how many product B ? <br>\n",
    "As Somu is a regular customer give him 10% discount (use [Arthimetic operations](SolivarLabs_Python_Practice.ipynb#Arthmetic-Operators)) <br>\n",
    "Tell Somu, what is the final bill. "
   ]
  },
  {
   "cell_type": "code",
   "execution_count": null,
   "metadata": {
    "collapsed": true,
    "scrolled": true
   },
   "outputs": [],
   "source": [
    "def after_discount(amount,discount):\n",
    "    dis=(amount*discount)/100\n",
    "    final_amount=amount-dis\n",
    "    return final_amount\n",
    "Acost=10\n",
    "Bcost=20\n",
    "productsA=input(\"enter no.of produts of A type\" )\n",
    "productsB=input(\"enter no.of products of B type\")\n",
    "amountA=int(productsA)*Acost\n",
    "amountB=int(productsB)*Bcost\n",
    "billamount=amountA+amountB\n",
    "print(\"bill_amount\",billamount)\n",
    "final_bill=after_discount(billamount,10)\n",
    "print(\"final bill after discount=\",final_bill)\n",
    "\n",
    "\n",
    "\n",
    "\n",
    "\n",
    "\n",
    "\n",
    "\n",
    "\n"
   ]
  },
  {
   "cell_type": "markdown",
   "metadata": {},
   "source": [
    "### Try it #08\n",
    "\n",
    "Take the program you wrote in [Try it #07]()<br>\n",
    "pass the product A and B prices as arguments and take the values from sys.argv<br>\n",
    "and rerun the program. <br>\n",
    "\n",
    "AS you use files here, you need to learn how to run python from command line. <br>\n",
    "If you are Anaconda Navigator --> Click on Environment --> Root Start button --> Open Terminal <br>\n",
    "you can run python <pythonfile> <args> here <br>\n",
    "or if you installed python directly and set it in environment variables, you can goto command prompt and run python <filename> <args> <br>"
   ]
  },
  {
   "cell_type": "code",
   "execution_count": null,
   "metadata": {
    "collapsed": true
   },
   "outputs": [],
   "source": [
    "def after_discount(amount,discount):\n",
    "    dis=(amount*discount)/100\n",
    "    final_amount=amount-dis\n",
    "    return final_amount\n",
    "import sys\n",
    "Acost=int(sys.argv[1])\n",
    "Bcost=int(sys.argv[2])\n",
    "productsA=input(\"enter no.of produts of A type\" )\n",
    "productsB=input(\"enter no.of products of B type\")\n",
    "amountA=int(productsA)*Acost\n",
    "amountB=int(productsB)*Bcost\n",
    "billamount=amountA+amountB\n",
    "print(\"bill_amount\",billamount)\n",
    "final_bill=after_discount(billamount,10)\n",
    "print(\"final bill after discount=\",final_bill)\n",
    "\n",
    "\n",
    "\n",
    "\n",
    "\n",
    "\n",
    "\n",
    "\n",
    "\n"
   ]
  },
  {
   "cell_type": "markdown",
   "metadata": {},
   "source": [
    "### Try it #09\n",
    "You are back from US and you have only dollars, so you need cash in Rupees, you went to money exchange center. the person there will ask you how many dollars ? he will convert it to ruppees, deduct conversion charge and tell you the amount you will get. \n",
    "\n",
    "Write a function which will take money in dollars and return rupees (use 1 dollar = 65 Rs)\n",
    "Write another function which deducts 1% of the converted money value as conversion charge and give the result to customer"
   ]
  },
  {
   "cell_type": "code",
   "execution_count": null,
   "metadata": {
    "collapsed": true
   },
   "outputs": [],
   "source": [
    "def convert(d):\n",
    "    r=int(d)*65\n",
    "    return r\n",
    "def deduction(ru):\n",
    "    concharge=(ru*1)/100\n",
    "    fc=ru-concharge\n",
    "    return fc\n",
    "dollars=input(\"how many dollrs?:\")\n",
    "rupees=convert(dollars)\n",
    "print(\"cash in rupees=\",rupees)\n",
    "finalcash=deduction(rupees)\n",
    "print(\"final cash after deducting conversion charge=\",finalcash)\n",
    "\n",
    "\n",
    "\n",
    "\n"
   ]
  },
  {
   "cell_type": "markdown",
   "metadata": {},
   "source": [
    "### Try it #10\n",
    "Does this program work in real world ? (Refer to program above 10th Excercise in Practie notebook)<br>\n",
    "<i>when someone asks you this question, \n",
    "you need to look at your solution and check,<br> \n",
    "- what are your assumptions in the program?<br> \n",
    "- did you cover both <b>success and failure</b> steps at <b>each stage.</b> </i><br>\n",
    "Before moving to the next section, Identify the gaps in above program which helps in calculating Somu bill and write your program below?<br><br>\n",
    "<b>It should include all above concepts</b>"
   ]
  },
  {
   "cell_type": "code",
   "execution_count": null,
   "metadata": {},
   "outputs": [
    {
     "name": "stdout",
     "output_type": "stream",
     "text": [
      "Enter the product Name, A, B, C, NM(No more): A\n",
      "Enter the number of products: 2\n",
      "Enter the product Name, A, B, C, NM(No more): B\n",
      "Enter the number of products: 0\n",
      "Enter the product Name, A, B, C, NM(No more): \n",
      "Invalid product Name, check it again -  \n"
     ]
    }
   ],
   "source": [
    "cost_A = 10\n",
    "cost_B = 20\n",
    "cost_C = 30\n",
    "bill_amount = 0\n",
    "#Below is a function defintion \n",
    "def apply_discount(amount,discount):\n",
    "    #amount and discount are he parameters to the function\n",
    "    final_amount = amount - (amount*discount)/100\n",
    "    #final_amount is the return value from function, if there is nothing you can say return None\n",
    "    return final_amount\n",
    "\n",
    "for i in range(5):\n",
    "    #To take input from users\n",
    "    product_name  = input(\"Enter the product Name, A, B, C, NM(No more): \")\n",
    "    if(product_name == \"NM\"):\n",
    "        break\n",
    "    elif(product_name != \"A\" and product_name != \"B\" and product_name != \"C\" ):\n",
    "        print(\"Invalid product Name, check it again - \",product_name)\n",
    "        continue\n",
    "    \n",
    "        \n",
    "        if(product_name == \"A\"):\n",
    "            bill_amount += int(no_of_prods)*cost_A\n",
    "        elif(product_name == \"B\"):\n",
    "            bill_amount += int(no_of_prods)*cost_B\n",
    "        elif(product_name == \"C\"):\n",
    "            bill_amount += int(no_of_prods)*cost_C\n",
    "        else:\n",
    "            bill_amount += int(no_of_prods)*30\n",
    "print(\"\\nYour bill before discount - \",bill_amount)\n",
    "#This is how the function call with arguments or parameters will work  \n",
    "final_bill_amount = apply_discount(bill_amount,20)\n",
    "print(\"Your Final bill after discount - \",final_bill_amount)\n",
    "print(\"you saved - \",bill_amount - final_bill_amount)\n"
   ]
  },
  {
   "cell_type": "markdown",
   "metadata": {},
   "source": [
    "### Try it #11\n",
    "\n",
    "Take the billing system program and rewrite it using 2 data structures as <br>\n",
    "products_list, Product_cost_list   <br>\n",
    "Where ever you are accessing product names and costs you should use lists <br>"
   ]
  },
  {
   "cell_type": "code",
   "execution_count": 1,
   "metadata": {},
   "outputs": [
    {
     "name": "stdout",
     "output_type": "stream",
     "text": [
      "['A', 'B', 'C', 'NM']\n",
      "[10, 20, 30]\n",
      "enter product name A Or B or C or Nm(nomaore)A\n",
      "Enter the number of products: 1\n",
      "enter product name A Or B or C or Nm(nomaore)B\n",
      "Enter the number of products: 2\n",
      "enter product name A Or B or C or Nm(nomaore)C\n",
      "Enter the number of products: 3\n",
      "enter product name A Or B or C or Nm(nomaore)NM\n",
      "\n",
      "Your bill before discount -  140\n",
      "Your Final bill after discount -  112.0\n",
      "you saved -  28.0\n"
     ]
    }
   ],
   "source": [
    "bill_amount=0\n",
    "def apply_discount(amount,discount):\n",
    "    #amount and discount are he parameters to the function\n",
    "    final_amount = amount - (amount*discount)/100\n",
    "    #final_amount is the return value from function, if there is nothing you can say return None\n",
    "    return final_amount\n",
    "product_list=[\"A\",\"B\",\"C\",\"NM\"]\n",
    "product_cost_list=[150,200,300]\n",
    "print(product_list)\n",
    "print(product_cost_list)\n",
    "\n",
    "for i in range(5):\n",
    "    product_name=input(\"enter product name A Or B or C or Nm(nomaore)\")\n",
    "    if(product_name == product_list[3]):\n",
    "        break\n",
    "    elif(product_name != product_list[0] and product_name != product_list[1] and product_name != product_list[2] ):\n",
    "        print(\"Invalid product Name, check it again - \",product_name)\n",
    "        continue\n",
    "    no_of_prods = input(\"Enter the number of products: \")\n",
    "    if(product_name == product_list[0]):\n",
    "            bill_amount += int(no_of_prods)*product_cost_list[0]\n",
    "    elif(product_name == product_list[1]):\n",
    "            bill_amount += int(no_of_prods)*product_cost_list[1]\n",
    "    elif(product_name == product_list[2]):\n",
    "            bill_amount += int(no_of_prods)*product_cost_list[2]\n",
    "    else:\n",
    "            bill_amount += int(no_of_prods)*30\n",
    "print(\"\\nYour bill before discount - \",bill_amount)\n",
    "#This is how the function call with arguments or parameters will work  \n",
    "final_bill_amount = apply_discount(bill_amount,20)\n",
    "print(\"Your Final bill after discount - \",final_bill_amount)\n",
    "print(\"you saved - \",bill_amount - final_bill_amount)\n",
    "\n",
    "\n",
    "\n",
    "\n",
    "\n",
    "\n",
    "\n",
    "\n",
    "\n"
   ]
  },
  {
   "cell_type": "code",
   "execution_count": null,
   "metadata": {
    "collapsed": true
   },
   "outputs": [],
   "source": [
    "english_french={'yes':Oui,'No':Non'Yes,please':Oui,sil vous plait,'NO,thank you':Wee,seel voo play}"
   ]
  },
  {
   "cell_type": "markdown",
   "metadata": {},
   "source": [
    "\n",
    "### Try it #12\n",
    "\n",
    "Dictonaries<br>\n",
    "\n",
    "you are in a business conference, the french team near you are your potential clients, you want to greet them and talk about their new project ? <br>\n",
    "To start with you ask a question , if they can speak english and they say No. <br>\n",
    "So you need to talk to them in French, create a dictonary out of the below table, key = english word --> value is a list of french word,Pronunciation.<br>\n",
    "So now when ever you want to talk something in english , you say that sentence to this program and it translates it to French for you <br>\n",
    "If some words are not present in below conversion table , keep the same word in english to french. <br>\n",
    "\n",
    "Example: <br>\n",
    "\n",
    "Enter your setence: How are you ? <br>\n",
    "In French: Comment allez-vous?  -  kommahng tahlay voo <br>\n",
    "\n",
    "Enter your setence: How many products ? <br>\n",
    "In French: Combien? products - kong-byang products <br>\n",
    "\n",
    "Exit conversation if entered setence is bye or exit<br>\n",
    "\n",
    "\n",
    "<table class=\"languageresults\">       \n",
    "<tbody><tr>\n",
    "<th><div><b>English</b></div></th>\n",
    "<th><div><b>French</b></div><div><i>Pronunciation</i></div></th>\n",
    "</tr>\n",
    "<tr>\n",
    "<td>Yes/No</td>\n",
    "<td><div><b>Oui/Non</b></div><div><i>wee/nong</i></div></td>\n",
    "</tr>\n",
    "<tr>\n",
    "<td>Yes, please/No, thank you</td>\n",
    "<td><div><b>Oui, s'il vous plaît/Non, merci</b></div><div><i>wee, seel voo play/nong, mair-see</i></div></td>\n",
    "</tr>\n",
    "<tr>\n",
    "<td>Please</td>\n",
    "<td><div><b>S'il vous plaît</b></div><div><i>seel voo play</i></div></td>\n",
    "</tr>\n",
    "<tr>\n",
    "<td>Thank you</td>\n",
    "<td><div><b>Merci (madame/monsieur)</b></div><div><i>mair-see (mah-dahm/mer-syer)</i></div></td>\n",
    "</tr>\n",
    "<tr>\n",
    "<td>You're welcome</td>\n",
    "<td><div><b>Il n'y a pas de quoi</b></div><div><i>eel nyah pah der kwah</i></div></td>\n",
    "</tr>\n",
    "<tr>\n",
    "<td>Here is/are</td>\n",
    "<td><div><b>Voici...</b></div><div><i>vwah-see</i></div></td>\n",
    "</tr>\n",
    "<tr>\n",
    "<td>There is/are</td>\n",
    "<td><div><b>Voilà...</b></div><div><i>vwah-la</i></div></td>\n",
    "</tr>\n",
    "<tr>\n",
    "<td>Hello/Good morning/afternoon</td>\n",
    "<td><div><b>Bonjour, (madame/monsieur)</b></div><div><i>bong-zhoor, (mah-dahm/mer-syer)</i></div></td>\n",
    "</tr>\n",
    "<tr>\n",
    "<td>Hello/Good evening</td>\n",
    "<td><div><b>Bonsoir (madame/monsieur)</b></div><div><i>bong-swahr, (mah-dahm/mer-syer)</i></div></td>\n",
    "</tr>\n",
    "<tr>\n",
    "<td>Goodbye</td>\n",
    "<td><div><b>Au revoir</b></div><div><i>oh rer-vwahr</i></div></td>\n",
    "</tr>\n",
    "<tr>\n",
    "<td>Good night</td>\n",
    "<td><div><b>Bonne nuit</b></div><div><i>bonn nwee</i></div></td>\n",
    "</tr>\n",
    "<tr>\n",
    "<td>How are you?</td>\n",
    "<td><div><b>Comment allez-vous?</b></div><div><i>kommahng tahlay voo</i></div></td>\n",
    "</tr>\n",
    "<tr>\n",
    "<td>Very well, thanks</td>\n",
    "<td><div><b>Très bien, merci</b></div><div><i>tray byang mair-see</i></div></td>\n",
    "</tr>\n",
    "<tr>\n",
    "<td>Excuse me</td>\n",
    "<td><div><b>Excusez-moi</b></div><div><i>ex-kewzay mwah</i></div></td>\n",
    "</tr>\n",
    "<tr>\n",
    "<td>Do you speak English?</td>\n",
    "<td><div><b>Est-ce que vous parlez anglais?</b></div><div><i>essker voo pahrlay ahng-glay</i></div></td>\n",
    "</tr>\n",
    "<tr>\n",
    "<td>Can you help me?</td>\n",
    "<td><div><b>Est-ce que vous pouvez m'aider?</b></div><div><i>essker voo poovay may-day</i></div></td>\n",
    "</tr>\n",
    "<tr>\n",
    "<td>I don't understand.</td>\n",
    "<td><div><b>Je ne comprends pas.</b></div><div><i>zher ner kong-prahng pah</i></div></td>\n",
    "</tr>\n",
    "<tr>\n",
    "<td>I don't know.</td>\n",
    "<td><div><b>Je ne sais pas.</b></div><div><i>zher ner say pah</i></div></td>\n",
    "</tr>\n",
    "<tr>\n",
    "<td>Could you please write it down</td>\n",
    "<td><div><b>Est-ce que vous pouvez l'écrire?</b></div><div><i>essker voo poovay lay-kreer</i></div></td>\n",
    "</tr>\n",
    "<tr>\n",
    "<td>Sorry</td>\n",
    "<td><div><b>Désolé(e)</b></div><div><i>day-zo-lay</i></div></td>\n",
    "</tr>\n",
    "<tr>\n",
    "<td>Leave me alone!</td>\n",
    "<td><div><b>Laissez-moi tranquille.</b></div><div><i>lay-say mwah trahng-keel</i></div></td>\n",
    "</tr>\n",
    "<tr>\n",
    "<td>Where?</td>\n",
    "<td><div><b>Où?</b></div><div><i>oo</i></div></td>\n",
    "</tr>\n",
    "<tr>\n",
    "<td>When?</td>\n",
    "<td><div><b>Quand?</b></div><div><i>kahng</i></div></td>\n",
    "</tr>\n",
    "<tr>\n",
    "<td>How?</td>\n",
    "<td><div><b>Comment?</b></div><div><i>kommahng</i></div></td>\n",
    "</tr>\n",
    "<tr>\n",
    "<td>Why?</td>\n",
    "<td><div><b>Pourquoi?</b></div><div><i>poor-kwah</i></div></td>\n",
    "</tr>\n",
    "<tr>\n",
    "<td>Who?</td>\n",
    "<td><div><b>Qui?</b></div><div><i>kee</i></div></td>\n",
    "</tr>\n",
    "<tr>\n",
    "<td>Which?</td>\n",
    "<td><div><b>Lequel?/Laquelle?</b></div><div><i>ler-kell/lah-kell</i></div></td>\n",
    "</tr>\n",
    "<tr>\n",
    "<td>Where is...?</td>\n",
    "<td><div><b>Où est...?</b></div><div><i>oo ay</i></div></td>\n",
    "</tr>\n",
    "<tr>\n",
    "<td>How much?</td>\n",
    "<td><div><b>Combien?</b></div><div><i>kong-byang</i></div></td>\n",
    "</tr>\n",
    "<tr>\n",
    "<td>How many?</td>\n",
    "<td><div><b>Combien?</b></div><div><i>kong-byang</i></div></td>\n",
    "</tr>\n",
    "<tr>\n",
    "<td>What's that?</td>\n",
    "<td><div><b>Qu'est-ce que c'est?</b></div><div><i>kessker say</i></div></td>\n",
    "</tr>\n",
    "<tr>\n",
    "<td>I'd like...</td>\n",
    "<td><div><b>Je voudrais...</b></div><div><i>zher voodray</i></div></td>\n",
    "</tr>\n",
    "<tr>\n",
    "<td>I want...</td>\n",
    "<td><div><b>Je veux...</b></div><div><i>zher ver</i></div></td>\n",
    "</tr>\n",
    "<tr>\n",
    "<td>I like it.</td>\n",
    "<td><div><b>Ça me plaît.</b></div><div><i>sahm play</i></div></td>\n",
    "</tr>\n",
    "<tr>\n",
    "<td>I don't like it.</td>\n",
    "<td><div><b>Ça ne me plaît pas.</b></div><div><i>sah ner mer play pah</i></div></td>\n",
    "</tr>\n",
    "<tr>\n",
    "<td>OK/Agreed.</td>\n",
    "<td><div><b>Ça va/d'accord.</b></div><div><i>sah vah/dah-korr</i></div></td>\n",
    "</tr>\n",
    "<tr>\n",
    "<td>That's fine.</td>\n",
    "<td><div><b>C'est bien.</b></div><div><i>say byang</i></div></td>\n",
    "</tr>\n",
    "<tr>\n",
    "<td>I love you (singular)</td>\n",
    "<td><div><b>Je t'aime</b></div><div><i>zhuh tem</i></div></td>\n",
    "</tr>\n",
    "<tr>\n",
    "<td>I love you! (plural)</td>\n",
    "<td><div><b>Je vous aime</b></div><div><i>zhuh voo zem</i></div></td>\n",
    "</tr>\n",
    "</tbody></table>"
   ]
  },
  {
   "cell_type": "code",
   "execution_count": 29,
   "metadata": {},
   "outputs": [
    {
     "name": "stdout",
     "output_type": "stream",
     "text": [
      "enter u r sentance:Iloveyou alekhya\n",
      "['Iloveyou', 'alekhya']\n",
      "  jet amine alekhya   Zhuh tem  alekhya\n"
     ]
    }
   ],
   "source": [
    "#Add your code here\n",
    "english_french={'Iloveyou':['jet amine','Zhuh tem '],'howmany?':['combein','kong-byang'],'when?':['quand','khang']}\n",
    "engsen=input(\"enter u r sentance:\")\n",
    "wordlist=engsen.split()\n",
    "print(wordlist)\n",
    "sen=\" \"\n",
    "pron=\" \"\n",
    "for word in wordlist:\n",
    "    if(word in english_french.keys()):\n",
    "        tr=english_french[word]\n",
    "        sen+=\" \"+tr[0]\n",
    "        pron+=\" \"+tr[1]\n",
    "        \n",
    "    else:\n",
    "        sen+=\" \"+word\n",
    "        pron+=\" \"+word\n",
    "print(sen,pron)\n",
    "\n",
    "\n",
    "        \n",
    "        \n",
    "\n",
    "\n",
    "\n",
    "\n",
    "\n",
    "                \n",
    "                \n",
    "                \n",
    "                \n",
    "                \n",
    "                \n",
    "        "
   ]
  },
  {
   "cell_type": "markdown",
   "metadata": {},
   "source": [
    "### Try it #13\n",
    "\n",
    "Strings<br>\n",
    "\n",
    "You are presenting text to students on python strings, but its not formated and has few mistakes, you need to correct it using a python program. Fix the below issues. Input is the setence and output needs to be the same setence without mentioed issues. <br>\n",
    "\n",
    "Sentence:<br>\n",
    "\"<i> Using string methods in Jython is very he1pful. but you need to have a clear understanding of the method syntax and usage or e1se your jython program may fail complet1y. There is no wonder jython string methods are usefu1 in handling text proper1y.  </i>\"<br>\n",
    "\n",
    "Issues:<br>\n",
    "1. Python is missed typed as Jython or jython\n",
    "2. l in few places is typed as 1. \n",
    "3. Setnence starting word after . (full stop symbol) should start with capital letter\n",
    "4. Make syntax and usage words all capitals as they need emphasis. "
   ]
  },
  {
   "cell_type": "code",
   "execution_count": 4,
   "metadata": {},
   "outputs": [
    {
     "name": "stdout",
     "output_type": "stream",
     "text": [
      "Using methods in python is very helpful. but you need to have a clear understanding of the method sytax and usage or else your python program may fail completely.There is no wonder python string mthods are useful in handling text properly.\n"
     ]
    }
   ],
   "source": [
    "sentance=\"Using methods in Jython is very he1pful. but you need to have a clear understanding of the method sytax and usage or e1se your Jython program may fail complete1y.There is no wonder Jython string mthods are usefu1 in handling text proper1y.\"\n",
    "sentance=sentance.replace('J','p')\n",
    "\n",
    "\n",
    "\n",
    "    \n",
    "\n",
    "    \n",
    "\n",
    "\n",
    "\n"
   ]
  },
  {
   "cell_type": "markdown",
   "metadata": {},
   "source": [
    "### Try it #14\n",
    "\n",
    "File handling<br>\n",
    "\n",
    "Function 1:\n",
    "Somu want to create a file with all his bills so far, so take input from him until he says Done, and write it to a file, Bill no\\tDate(DD/MM/YYYY)\\tBill_amount\n",
    "\n",
    "Function 2:\n",
    "Now Somu wants to know what is his total expense out of bills. \n",
    "(optional) see if you can generate sub totals for each month. "
   ]
  },
  {
   "cell_type": "code",
   "execution_count": 6,
   "metadata": {},
   "outputs": [
    {
     "name": "stdout",
     "output_type": "stream",
     "text": [
      "entner student name:A\n",
      "enter lab name:mca\n"
     ]
    }
   ],
   "source": [
    "\n",
    "    \n",
    "\n",
    "\n",
    "\n",
    "\n",
    "\n",
    "\n",
    "\n",
    "\n",
    "\n",
    "\n",
    "\n",
    "\n",
    "\n",
    "\n",
    "\n"
   ]
  },
  {
   "cell_type": "markdown",
   "metadata": {},
   "source": [
    "### Try it #15 \n",
    "\n",
    "Exception handling<br>\n",
    "\n",
    "We have been asking Somu to enter product count and what if product count is entered as \"10 no\" which is not a number, your program may fail. <br>\n",
    "\n",
    "What if we are trying to get a product cost from list or dictonary and product is not available it will throw an error <br>\n",
    "\n",
    "Take one of Somu billing program and add exception handling, if there is no exception, say Thank you for using the system. Even if exception is there or not ask him for feedback(input). "
   ]
  },
  {
   "cell_type": "code",
   "execution_count": 5,
   "metadata": {
    "collapsed": true
   },
   "outputs": [],
   "source": [
    "#Add your code here"
   ]
  },
  {
   "cell_type": "markdown",
   "metadata": {},
   "source": [
    "Once you have completed all above excersies, please save the notebook with your name at the end \n",
    "SolivarLabs_Python_Excercises_Raja.ipynb and upload it to the Github folder shared with you. "
   ]
  },
  {
   "cell_type": "code",
   "execution_count": null,
   "metadata": {
    "collapsed": true
   },
   "outputs": [],
   "source": []
  }
 ],
 "metadata": {
  "kernelspec": {
   "display_name": "Python 3",
   "language": "python",
   "name": "python3"
  },
  "language_info": {
   "codemirror_mode": {
    "name": "ipython",
    "version": 3
   },
   "file_extension": ".py",
   "mimetype": "text/x-python",
   "name": "python",
   "nbconvert_exporter": "python",
   "pygments_lexer": "ipython3",
   "version": "3.6.3"
  }
 },
 "nbformat": 4,
 "nbformat_minor": 2
}
